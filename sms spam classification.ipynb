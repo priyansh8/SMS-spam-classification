{
 "cells": [
  {
   "cell_type": "code",
   "execution_count": 66,
   "metadata": {},
   "outputs": [],
   "source": [
    "import pandas as pd\n",
    "import numpy as np"
   ]
  },
  {
   "cell_type": "code",
   "execution_count": 67,
   "metadata": {},
   "outputs": [],
   "source": [
    "df = pd.read_csv(\"E:\\\\projects\\\\sms spam classification\\\\smsspamcollection\\\\SMSSpamCollection\", sep = '\\t', header = None, encoding = 'utf-8') "
   ]
  },
  {
   "cell_type": "code",
   "execution_count": 68,
   "metadata": {},
   "outputs": [
    {
     "name": "stdout",
     "output_type": "stream",
     "text": [
      "      0                                                  1\n",
      "0   ham  Go until jurong point, crazy.. Available only ...\n",
      "1   ham                      Ok lar... Joking wif u oni...\n",
      "2  spam  Free entry in 2 a wkly comp to win FA Cup fina...\n",
      "3   ham  U dun say so early hor... U c already then say...\n",
      "4   ham  Nah I don't think he goes to usf, he lives aro...\n"
     ]
    }
   ],
   "source": [
    "print(df.head())"
   ]
  },
  {
   "cell_type": "code",
   "execution_count": 69,
   "metadata": {},
   "outputs": [
    {
     "name": "stdout",
     "output_type": "stream",
     "text": [
      "ham     4825\n",
      "spam     747\n",
      "Name: 0, dtype: int64\n"
     ]
    }
   ],
   "source": [
    "classes = df[0]\n",
    "#print(classes)\n",
    "print(classes.value_counts())"
   ]
  },
  {
   "cell_type": "markdown",
   "metadata": {},
   "source": [
    "# Preprocess The Data"
   ]
  },
  {
   "cell_type": "code",
   "execution_count": 70,
   "metadata": {},
   "outputs": [],
   "source": [
    "# Convert to binary classification 0=ham, 1=spam\n",
    "from sklearn.preprocessing import LabelEncoder"
   ]
  },
  {
   "cell_type": "code",
   "execution_count": 71,
   "metadata": {},
   "outputs": [
    {
     "name": "stdout",
     "output_type": "stream",
     "text": [
      "0     ham\n",
      "1     ham\n",
      "2    spam\n",
      "3     ham\n",
      "4     ham\n",
      "5    spam\n",
      "6     ham\n",
      "7     ham\n",
      "8    spam\n",
      "9    spam\n",
      "Name: 0, dtype: object\n",
      "[0 0 1 0 0 1 0 0 1 1]\n"
     ]
    }
   ],
   "source": [
    "encoder = LabelEncoder()\n",
    "Y = encoder.fit_transform(classes)\n",
    "print(classes[:10])\n",
    "print(Y[:10])"
   ]
  },
  {
   "cell_type": "code",
   "execution_count": 72,
   "metadata": {},
   "outputs": [
    {
     "name": "stdout",
     "output_type": "stream",
     "text": [
      "0    Go until jurong point, crazy.. Available only ...\n",
      "1                        Ok lar... Joking wif u oni...\n",
      "2    Free entry in 2 a wkly comp to win FA Cup fina...\n",
      "3    U dun say so early hor... U c already then say...\n",
      "4    Nah I don't think he goes to usf, he lives aro...\n",
      "5    FreeMsg Hey there darling it's been 3 week's n...\n",
      "6    Even my brother is not like to speak with me. ...\n",
      "7    As per your request 'Melle Melle (Oru Minnamin...\n",
      "8    WINNER!! As a valued network customer you have...\n",
      "9    Had your mobile 11 months or more? U R entitle...\n",
      "Name: 1, dtype: object\n"
     ]
    }
   ],
   "source": [
    "# Store the text messages data\n",
    "tm = df[1]\n",
    "print(tm[:10])"
   ]
  },
  {
   "cell_type": "code",
   "execution_count": 73,
   "metadata": {},
   "outputs": [],
   "source": [
    "# replace email's, url's, etc. because every sms can have unique mail address, url, etc.\n",
    "# No help to learn for machine learning \n",
    "processed = tm.str.replace(r'^.+@[^\\.].*\\.[a-z]{2,}$','emailaddr')\n",
    "processed = processed.str.replace(r'^http\\://[a-zA-Z0-9\\-\\.]+\\.[a-zA-Z]{2,3}(/\\S*)?$', 'webaddress')\n",
    "processed = processed.str.replace(r'£|\\$', 'moneysymb')\n",
    "processed = processed.str.replace(r'^\\(?[\\d]{3}\\)?[\\s-]?[\\d]{3}[\\s-]?[\\d]{4}$', 'phonenumber')\n",
    "processed = processed.str.replace(r'\\d+(\\.\\d+)?','number')"
   ]
  },
  {
   "cell_type": "code",
   "execution_count": 74,
   "metadata": {},
   "outputs": [],
   "source": [
    "processed = processed.str.replace(r'[^\\w\\d\\s]',' ') # Punctuations\n",
    "processed = processed.str.replace(r'\\s+',' ') # whitespaces between terms with a single space\n",
    "processed = processed.str.replace(r'^\\s+|\\s+?$','') # Remove leading and trailing whitespaces"
   ]
  },
  {
   "cell_type": "code",
   "execution_count": 75,
   "metadata": {},
   "outputs": [
    {
     "name": "stdout",
     "output_type": "stream",
     "text": [
      "0       go until jurong point crazy available only in ...\n",
      "1                                 ok lar joking wif u oni\n",
      "2       free entry in number a wkly comp to win fa cup...\n",
      "3             u dun say so early hor u c already then say\n",
      "4       nah i don t think he goes to usf he lives arou...\n",
      "                              ...                        \n",
      "5567    this is the numbernd time we have tried number...\n",
      "5568                  will ü b going to esplanade fr home\n",
      "5569    pity was in mood for that so any other suggest...\n",
      "5570    the guy did some bitching but i acted like i d...\n",
      "5571                            rofl its true to its name\n",
      "Name: 1, Length: 5572, dtype: object\n"
     ]
    }
   ],
   "source": [
    "# Change words to lowercase\n",
    "processed = processed.str.lower()\n",
    "print(processed)"
   ]
  },
  {
   "cell_type": "code",
   "execution_count": 76,
   "metadata": {},
   "outputs": [],
   "source": [
    "from nltk.corpus import stopwords\n",
    "\n",
    "stop_words = set(stopwords.words('english'))\n",
    "\n",
    "processed = processed.apply(lambda x: ' '.join(term for term in x.split() if term not in stop_words))"
   ]
  },
  {
   "cell_type": "code",
   "execution_count": 77,
   "metadata": {},
   "outputs": [],
   "source": [
    "import nltk\n",
    "ps = nltk.PorterStemmer()\n",
    "\n",
    "processed = processed.apply(lambda x: ' '.join(ps.stem(term) for term in x.split()))"
   ]
  },
  {
   "cell_type": "code",
   "execution_count": 78,
   "metadata": {},
   "outputs": [
    {
     "name": "stdout",
     "output_type": "stream",
     "text": [
      "0       go jurong point crazi avail bugi n great world...\n",
      "1                                   ok lar joke wif u oni\n",
      "2       free entri number wkli comp win fa cup final t...\n",
      "3                     u dun say earli hor u c alreadi say\n",
      "4                    nah think goe usf live around though\n",
      "                              ...                        \n",
      "5567    numbernd time tri number contact u u moneysymb...\n",
      "5568                              ü b go esplanad fr home\n",
      "5569                                    piti mood suggest\n",
      "5570    guy bitch act like interest buy someth els nex...\n",
      "5571                                       rofl true name\n",
      "Name: 1, Length: 5572, dtype: object\n"
     ]
    }
   ],
   "source": [
    "print(processed)"
   ]
  },
  {
   "cell_type": "code",
   "execution_count": 79,
   "metadata": {},
   "outputs": [],
   "source": [
    "from nltk.tokenize import word_tokenize"
   ]
  },
  {
   "cell_type": "code",
   "execution_count": 80,
   "metadata": {},
   "outputs": [],
   "source": [
    "# Creating bag-of-words\n",
    "all_words = []\n",
    "for msg in processed:\n",
    "    words = word_tokenize(msg)\n",
    "    for w in words:\n",
    "        all_words.append(w)\n",
    "        \n",
    "all_words = nltk.FreqDist(all_words)"
   ]
  },
  {
   "cell_type": "code",
   "execution_count": 81,
   "metadata": {},
   "outputs": [
    {
     "name": "stdout",
     "output_type": "stream",
     "text": [
      "Number of Words: 6574\n",
      "Most Common Words: [('number', 2759), ('u', 1207), ('call', 674), ('go', 456), ('get', 451), ('ur', 391), ('gt', 318), ('lt', 316), ('come', 304), ('moneysymbnumb', 303), ('ok', 293), ('free', 284), ('day', 276), ('know', 275), ('love', 266)]\n"
     ]
    }
   ],
   "source": [
    "print('Number of Words: {}'.format(len(all_words)) )\n",
    "print('Most Common Words: {}'.format(all_words.most_common(15)))"
   ]
  },
  {
   "cell_type": "code",
   "execution_count": 82,
   "metadata": {},
   "outputs": [
    {
     "name": "stdout",
     "output_type": "stream",
     "text": [
      "['go', 'jurong', 'point', 'crazi', 'avail', 'bugi', 'n', 'great', 'world', 'la', 'e', 'buffet', 'cine', 'got', 'amor', 'wat', 'ok', 'lar', 'joke', 'wif', 'u', 'oni', 'free', 'entri', 'number', 'wkli', 'comp', 'win', 'fa', 'cup', 'final', 'tkt', 'numberst', 'may', 'text', 'receiv', 'question', 'std', 'txt', 'rate', 'c', 'appli', 'numberovernumb', 'dun', 'say', 'earli', 'hor', 'alreadi', 'nah', 'think', 'goe', 'usf', 'live', 'around', 'though', 'freemsg', 'hey', 'darl', 'week', 'word', 'back', 'like', 'fun', 'still', 'tb', 'xxx', 'chg', 'send', 'moneysymbnumb', 'rcv', 'even', 'brother', 'speak', 'treat', 'aid', 'patent', 'per', 'request', 'mell', 'oru', 'minnaminungint', 'nurungu', 'vettam', 'set', 'callertun', 'caller', 'press', 'copi', 'friend', 'winner', 'valu', 'network', 'custom', 'select', 'receivea', 'prize', 'reward', 'claim', 'call', 'code', 'klnumber', 'valid', 'hour', 'mobil', 'month', 'r', 'entitl', 'updat', 'latest', 'colour', 'camera', 'co', 'gon', 'na', 'home', 'soon', 'want', 'talk', 'stuff', 'anymor', 'tonight', 'k', 'cri', 'enough', 'today', 'six', 'chanc', 'cash', 'pound', 'cshnumber', 'cost', 'numberp', 'day', 'numberday', 'tsandc', 'repli', 'hl', 'info', 'urgent', 'membership', 'jackpot', 'www', 'dbuk', 'net', 'lccltd', 'pobox', 'numberldnwnumberanumberrwnumb', 'search', 'right', 'thank', 'breather', 'promis', 'wont', 'take', 'help', 'grant', 'fulfil', 'wonder', 'bless', 'time', 'date', 'sunday', 'xxxmobilemovieclub', 'use', 'credit', 'click', 'wap', 'link', 'next', 'messag', 'http', 'com', 'qjkgighjjgcbl', 'oh', 'watch', 'eh', 'rememb', 'spell', 'name', 'ye', 'v', 'naughti', 'make', 'wet', 'fine', 'way', 'feel', 'gota', 'b', 'england', 'macedonia', 'dont', 'miss', 'goal', 'team', 'news', 'ur', 'nation', 'eg', 'tri', 'wale', 'scotland', 'numbertxt', 'únumber', 'poboxoxnumberwnumberwq', 'serious', 'ha', 'ü', 'pay', 'first', 'da', 'stock', 'comin', 'aft', 'finish', 'lunch', 'str', 'lor', 'ard', 'smth', 'ffffffffff', 'alright', 'meet', 'sooner', 'forc', 'eat', 'slice', 'realli', 'hungri', 'tho', 'suck', 'mark', 'get', 'worri', 'know', 'sick', 'turn', 'pizza', 'lol', 'alway', 'convinc', 'catch', 'bu', 'fri', 'egg', 'tea', 'mom', 'left', 'dinner', 'love', 'amp', 'pack', 'car', 'let', 'room', 'ahhh', 'work', 'vagu', 'wait', 'clear', 'sure', 'sarcast', 'x', 'us', 'yeah', 'apologet', 'fallen', 'actin', 'spoilt', 'child', 'caught', 'till', 'badli', 'cheer', 'tell', 'anyth', 'fear', 'faint', 'housework', 'quick', 'cuppa', 'subscript', 'rington', 'uk', 'charg', 'pleas', 'confirm', 'yup', 'look', 'msg', 'xuhui', 'learn', 'numbernd', 'lesson', 'numberam', 'oop', 'roommat', 'done', 'see', 'letter', 'decid', 'hello', 'saturday', 'tomo', 'invit', 'pl', 'ahead', 'watt', 'weekend', 'abiola', 'forget', 'need', 'crave', 'sweet', 'arabian', 'steed', 'mmmmmm', 'yummi', 'rodger', 'burn', 'sm', 'nokia', 'camcord', 'deliveri', 'tomorrow', 'hope', 'man', 'well', 'endow', 'lt', 'gt', 'inch', 'hep', 'immunis', 'nigeria', 'fair', 'tyler', 'could', 'mayb', 'ask', 'bit', 'stubborn', 'hospit', 'kept', 'weak', 'sucker', 'saw', 'class', 'gram', 'usual', 'run', 'half', 'eighth', 'smarter', 'almost', 'whole', 'second', 'fyi', 'ride', 'morn', 'crash', 'place', 'wow', 'never', 'realiz', 'embarass', 'accomod', 'thought', 'sinc', 'best', 'seem', 'happi', 'cave', 'sorri', 'give', 'offer', 'ac', 'sptv', 'new', 'jersey', 'devil', 'detroit', 'red', 'wing', 'play', 'ice', 'hockey', 'correct', 'incorrect', 'end', 'mallika', 'sherawat', 'yesterday', 'find', 'url', 'congrat', 'year', 'special', 'cinema', 'pass', 'suprman', 'matrixnumb', 'starwarsnumb', 'etc', 'bxnumber', 'ipnumb', 'numberw', 'numberpm', 'later', 'reach', 'gauti', 'sehwag', 'odi', 'seri', 'pick', 'burger', 'move', 'pain', 'kill', 'good', 'girl', 'situat', 'seeker', 'part', 'check', 'iq', 'took', 'forev', 'come', 'doubl', 'hair', 'dresser', 'said', 'wun', 'cut', 'short', 'nice', 'advis', 'follow', 'recent', 'review', 'mob', 'award', 'bonu', 'song', 'dedic', 'valuabl', 'frnd', 'rpli', 'complimentari', 'trip', 'eurodisinc', 'trav', 'aco', 'entrynumb', 'di', 'morefrmmob', 'shracomorsglsuplt', 'lsnumber', 'numberaj', 'hear', 'divorc', 'barbi', 'ken', 'plane', 'wah', 'lucki', 'save', 'money', 'hee', 'hi', 'babe', 'im', 'wan', 'someth', 'xx', 'perform', 'machan', 'that', 'cool', 'gentleman', 'digniti', 'respect', 'peopl', 'much', 'shi', 'pa', 'oper', 'job', 'ta', 'earn', 'ah', 'stop', 'urgnt', 'real', 'yo', 'ticket', 'one', 'jacket', 'multi', 'start', 'came', 'bed', 'coin', 'factori', 'nitro', 'ela', 'kano', 'il', 'download', 'wen', 'stand', 'close', 'anoth', 'night', 'spent', 'late', 'afternoon', 'casualti', 'mean', 'stuffnumbermoro', 'includ', 'sheet', 'smile', 'pleasur', 'troubl', 'pour', 'rain', 'sumnumb', 'hurt', 'becoz', 'someon', 'servic', 'repres', 'guarante', 'havent', 'plan', 'buy', 'lido', 'show', 'collect', 'simpli', 'password', 'mix', 'verifi', 'usher', 'britney', 'fml', 'po', 'box', 'mknumber', 'numberh', 'numberppw', 'telugu', 'movi', 'abt', 'load', 'loan', 'wk', 'hol', 'forgot', 'hairdress', 'appoint', 'four', 'shower', 'beforehand', 'caus', 'prob', 'coffe', 'anim', 'noth', 'els', 'okay', 'price', 'long', 'legal', 'ave', 'am', 'gone', 'numberth', 'drive', 'test', 'yet', 'guess', 'gave', 'boston', 'men', 'chang', 'locat', 'nyc', 'cuz', 'signin', 'page', 'umma', 'life', 'vava', 'lot', 'dear', 'wish', 'birthday', 'truli', 'memor', 'aight', 'hit', 'would', 'ip', 'address', 'consid', 'comput', 'minecraft', 'server', 'grumpi', 'old', 'better', 'lie', 'busi', 'plural', 'noun', 'research', 'thing', 'scare', 'mah', 'loud', 'gent', 'contact', 'last', 'draw', 'knumber', 'numberhr', 'numberppm', 'wa', 'openin', 'sentenc', 'formal', 'anyway', 'juz', 'tt', 'eatin', 'puttin', 'weight', 'haha', 'anythin', 'happen', 'enter', 'cabin', 'boss', 'felt', 'askd', 'apart', 'went', 'holiday', 'flight', 'inc', 'min', 'goodo', 'must', 'friday', 'potato', 'ratio', 'tortilla', 'hmm', 'uncl', 'inform', 'school', 'directli', 'food', 'privat', 'account', 'statement', 'unredeem', 'identifi', 'expir', 'landlin', 'boxnumberwrnumberc', 'appl', 'pair', 'malarki', 'voda', 'match', 'quot', 'standard', 'app', 'sao', 'mu', 'predict', 'yetund', 'sent', 'bother', 'involv', 'impos', 'apologis', 'del', 'bak', 'sum', 'lucyxx', 'tmorrow', 'answer', 'sunshin', 'quiz', 'q', 'top', 'soni', 'dvd', 'player', 'countri', 'algarv', 'ansr', 'sp', 'tyron', 'laid', 'dog', 'direct', 'join', 'largest', 'bt', 'txting', 'gravel', 'nt', 'ecnumbera', 'emailaddr', 'befor', 'activ', 'chat', 'svc', 'hardcor', 'age', 'yr', 'lazi', 'type', 'lect', 'pouch', 'sir', 'mail', 'swt', 'nver', 'tire', 'littl', 'lovabl', 'person', 'coz', 'somtim', 'occupi', 'biggest', 'heart', 'gud', 'ninumb', 'open', 'ya', 'dot', 'what', 'staff', 'randi', 'sexi', 'femal', 'local', 'luv', 'netcollex', 'ltd', 'ummma', 'begin', 'qatar', 'pray', 'hard', 'delet', 'sindu', 'birla', 'soft', 'wine', 'flow', 'thk', 'plaza', 'typic', 'everywher', 'dirt', 'floor', 'window', 'shirt', 'sometim', 'mouth', 'dream', 'without', 'chore', 'joy', 'tv', 'exist', 'hail', 'mist', 'becom', 'aaooooright', 'leav', 'hous', 'interview', 'boy', 'annonc', 'arrang', 'keep', 'safe', 'envi', 'everyon', 'parent', 'hand', 'excit', 'spend', 'bootydeli', 'f', 'bangbab', 'order', 'content', 'goto', 'bangb', 'internet', 'menu', 'cultur', 'modul', 'snumber', 'avoid', 'missunderstd', 'wit', 'belov', 'escap', 'fanci', 'bridg', 'lager', 'complet', 'form', 'clark', 'also', 'utter', 'wast', 'axi', 'bank', 'hmmm', 'hop', 'muz', 'discuss', 'liao', 'bloodi', 'hell', 'cant', 'believ', 'surnam', 'mr', 'ill', 'clue', 'spanish', 'bath', 'carlo', 'mall', 'stay', 'til', 'smoke', 'moneysymb', 'worth', 'doesnt', 'log', 'spoke', 'maneesha', 'satisfi', 'experi', 'toll', 'lift', 'especi', 'approach', 'studi', 'grnumber', 'trust', 'guy', 'bye', 'handsom', 'toward', 'mummi', 'boytoy', 'awesom', 'minut', 'freephon', 'xma', 'radio', 'ju', 'si', 'uniqu', 'august', 'areyouuniqu', 'leagu', 'touch', 'deal', 'cours', 'howev', 'suggest', 'abl', 'or', 'everi', 'stool', 'settl', 'wishin', 'mrng', 'hav', 'stori', 'hamster', 'dead', 'tmr', 'orchard', 'mrt', 'kate', 'babyjontet', 'found', 'enc', 'buck', 'darlin', 'ive', 'colleg', 'refil', 'success', 'inr', 'decim', 'keralacircl', 'prepaid', 'balanc', 'rs', 'transact', 'id', 'kr', 'goodmorn', 'sleep', 'ga', 'alter', 'dat', 'ericsson', 'oso', 'can', 'not', 'oredi', 'straight', 'dogg', 'connect', 'refund', 'bill', 'shoot', 'big', 'readi', 'bruv', 'break', 'semest', 'noe', 'leh', 'sound', 'head', 'slept', 'past', 'easi', 'sen', 'exam', 'march', 'atm', 'regist', 'os', 'ubandu', 'instal', 'disk', 'import', 'file', 'system', 'repair', 'shop', 'romant', 'nite', 'sceneri', 'tc', 'biz', 'numberoptout', 'numbergbp', 'mtmsgnumber', 'appreci', 'partner', 'career', 'flyng', 'horo', 'star', 'sign', 'g', 'ari', 'compani', 'elama', 'mudyadhu', 'strict', 'teacher', 'bcoz', 'teach', 'conduct', 'gandhipuram', 'walk', 'cross', 'road', 'side', 'street', 'rubber', 'batteri', 'die', 'flirt', 'sam', 'recd', 'thirtyeight', 'penc', 'print', 'upstair', 'closer', 'wil', 'theori', 'argument', 'lose', 'argu', 'kick', 'secret', 'admir', 'reveal', 'tomarrow', 'laptop', 'case', 'pleassssssseeeee', 'tel', 'avent', 'sportsx', 'shine', 'meant', 'although', 'told', 'baig', 'face', 'fr', 'thanx', 'everyth', 'commerci', 'websit', 'slipper', 'kalli', 'bat', 'inning', 'didnt', 'goodnight', 'fix', 'wake', 'dearli', 'congratul', 'cd', 'voucher', 'numbergift', 'music', 'tnc', 'ldew', 'comnumberwinnumberppmxnumberagenumb', 'ranjith', 'cal', 'drpd', 'deeraj', 'deepak', 'numbermin', 'hold', 'bcum', 'angri', 'wid', 'dnt', 'childish', 'true', 'deep', 'affect', 'care', 'kettoda', 'manda', 'up', 'ship', 'numberwk', 'usp', 'lag', 'bribe', 'nipost', 'lemm', 'necessarili', 'expect', 'headin', 'mmm', 'jolt', 'suzi', 'lover', 'video', 'handset', 'anytim', 'unlimit', 'park', 'mini', 'disturb', 'luton', 'ring', 'h', 'horni', 'nake', 'hot', 'unsubscrib', 'dint', 'wana', 'sometm', 'clubnumbermobil', 'choos', 'club', 'clubnumb', 'boxnumb', 'numberwt', 'evo', 'flash', 'jealou', 'singl', 'chart', 'qualiti', 'sort', 'narcot', 'sunni', 'ray', 'blue', 'bay', 'hmv', 'genuin', 'numberperc', 'might', 'object', 'bf', 'rob', 'mack', 'gf', 'theater', 'celebr', 'full', 'swing', 'tool', 'definit', 'gdeve', 'far', 'oki', 'ahold', 'anybodi', 'throw', 'babi', 'cruisin', 'fone', 'jenni', 'ge', 'shall', 'tonit', 'varunnathu', 'edukkukaye', 'raksha', 'ollu', 'sens', 'gautham', 'haf', 'stupid', 'cam', 'buzi', 'accident', 'resend', 'phone', 'upgrad', 'sim', 'card', 'loyalti', 'numberthfeb', 'unless', 'gurl', 'appropri', 'teas', 'plz', 'rose', 'grave', 'bslvyl', 'somebodi', 'high', 'diesel', 'shit', 'shock', 'scari', 'imagin', 'def', 'somewher', 'taxi', 'fridg', 'meal', 'womdarful', 'actor', 'blind', 'numberu', 'roddsnumb', 'aberdeen', 'unit', 'kingdom', 'img', 'w', 'icmbnumbercktznumberrnumb', 'hide', 'remb', 'book', 'jo', 'friendship', 'hang', 'thread', 'themob', 'newest', 'game', 'tone', 'gossip', 'sport', 'fit', 'funki', 'garag', 'key', 'bookshelf', 'accept', 'sister', 'dearnumb', 'bestnumb', 'closnumb', 'lvblefrnd', 'jstfrnd', 'cutefrnd', 'lifpartnr', 'belovd', 'swtheart', 'bstfrnd', 'enemi', 'smart', 'weekli', 'cs', 'winnersclub', 'mnumber', 'numberuz', 'gbpnumber', 'normal', 'rest', 'mylif', 'wot', 'lost', 'made', 'advanc', 'pongal', 'kb', 'power', 'yoga', 'dunno', 'tahan', 'anot', 'lo', 'dude', 'afraid', 'decemb', 'numbermth', 'cake', 'merri', 'christma', 'kiss', 'cud', 'ppl', 'gona', 'lnumber', 'buse', 'waitin', 'pete', 'guild', 'bristol', 'problem', 'track', 'record', 'read', 'women', 'light', 'apo', 'return', 'immedi', 'germani', 'line', 'via', 'access', 'prepay', 'evapor', 'violat', 'privaci', 'steal', 'employ', 'paperwork', 'report', 'supervisor', 'valentin', 'lifetim', 'rcvd', 'custcar', 'daaaaa', 'dine', 'surf', 'post', 'wiv', 'carolin', 'favourit', 'stranger', 'interest', 'two', 'round', 'gudnit', 'practic', 'yiju', 'huim', 'num', 'small', 'prestig', 'shag', 'sextextuk', 'xxuk', 'jeremiah', 'iphon', 'apeshit', 'ever', 'misbehav', 'slap', 'urself', 'fault', 'basic', 'figur', 'alcohol', 'jay', 'weed', 'ish', 'ago', 'wtf', 'onam', 'sirji', 'met', 'insur', 'insha', 'allah', 'rakhesh', 'ex', 'tata', 'aig', 'tissco', 'tayseer', 'current', 'maxim', 'cc', 'hg', 'suitenumb', 'numberland', 'row', 'wnumberjnumberhl', 'unemploy', 'moment', 'st', 'andrew', 'cold', 'chikku', 'db', 'audrey', 'statu', 'forward', 'dawn', 'refresh', 'aliv', 'breath', 'air', 'z', 'update_now', 'motorola', 'sonyericsson', 'bluetooth', 'orang', 'mobileupdnumb', 'callnumberoptout', 'fnumberq', 'discount', 'rpnumber', 'regalportfolio', 'uniform', 'geeee', 'woke', 'cuddl', 'spoil', 'agre', 'will', 'refer', 'tnumber', 'gbp', 'seen', 'recognis', 'lindsay', 'sigh', 'bar', 'ptbo', 'heron', 'payasam', 'rinu', 'bring', 'taught', 'becau', 'he', 'project', 'prabu', 'mistak', 'bodi', 'quit', 'slow', 'guid', 'ovul', 'relax', 'reason', 'followin', 'coupl', 'wallet', 'numbermonth', 'nnumberdx', 'owl', 'lick', 'mm', 'rental', 'mobilesdirect', 'ornumberstoptxt', 'huh', 'sat', 'intro', 'pilat', 'kickbox', 'offic', 'lap', 'shut', 'bout', 'numberish', 'calcul', 'period', 'actual', 'rock', 'put', 'pictur', 'ass', 'facebook', 'al', 'salam', 'wahleykkum', 'share', 'grace', 'god', 'inshah', 'visitor', 'india', 'field', 'quickli', 'administr', 'poli', 'numberxmoneysymbnumberpw', 'emoneysymbnd', 'chechi', 'cream', 'none', 'yep', 'loxahatche', 'tree', 'stoner', 'slightli', 'disastr', 'pm', 'fav', 'wld', 'drink', 'busetop', 'sender', 'fullonsm', 'iron', 'yan', 'jiu', 'skip', 'den', 'blah', 'wendi', 'l', 'boxnumbersknumberch', 'whatsup', 'competit', 'txttowin', 'logo', 'namenumb', 'mobno', 'adam', 'eve', 'yahoo', 'poboxnumberwnumberwq', 'txtno', 'ad', 'poboxnumbernnumbertfnumberp', 'siva', 'hostel', 'aha', 'land', 'voic', 'express', 'sentiment', 'rowdi', 'ful', 'attitud', 'attract']\n"
     ]
    }
   ],
   "source": [
    "# Using 1500 most common features\n",
    "word_features = list(all_words.keys())[:1500]\n",
    "print(word_features)"
   ]
  },
  {
   "cell_type": "code",
   "execution_count": 83,
   "metadata": {},
   "outputs": [
    {
     "name": "stdout",
     "output_type": "stream",
     "text": [
      "go\n",
      "jurong\n",
      "point\n",
      "crazi\n",
      "avail\n",
      "bugi\n",
      "n\n",
      "great\n",
      "world\n",
      "la\n",
      "e\n",
      "buffet\n",
      "cine\n",
      "got\n",
      "amor\n",
      "wat\n"
     ]
    }
   ],
   "source": [
    "def find_features(msg):\n",
    "    words = word_tokenize(msg)\n",
    "    features = {}\n",
    "    for word in word_features:\n",
    "        features[word] = (word in words)\n",
    "        \n",
    "    return features\n",
    "\n",
    "features = find_features(processed[0])\n",
    "for key, value in features.items():\n",
    "    if value == True:\n",
    "        print(key)"
   ]
  },
  {
   "cell_type": "code",
   "execution_count": 84,
   "metadata": {},
   "outputs": [],
   "source": [
    "messages = list(zip(processed, Y))\n",
    "\n",
    "seed=1\n",
    "np.random.seed = seed\n",
    "np.random.shuffle(messages)\n",
    "\n",
    "# find_features for each sms messages\n",
    "featuresets = [(find_features(text), label) for (text, label) in messages]"
   ]
  },
  {
   "cell_type": "code",
   "execution_count": 85,
   "metadata": {},
   "outputs": [
    {
     "name": "stdout",
     "output_type": "stream",
     "text": [
      "({'go': False, 'jurong': False, 'point': False, 'crazi': False, 'avail': False, 'bugi': False, 'n': True, 'great': False, 'world': False, 'la': False, 'e': True, 'buffet': False, 'cine': False, 'got': False, 'amor': False, 'wat': False, 'ok': False, 'lar': False, 'joke': False, 'wif': False, 'u': True, 'oni': False, 'free': False, 'entri': False, 'number': False, 'wkli': False, 'comp': False, 'win': False, 'fa': False, 'cup': False, 'final': False, 'tkt': False, 'numberst': False, 'may': False, 'text': False, 'receiv': False, 'question': False, 'std': False, 'txt': False, 'rate': False, 'c': False, 'appli': False, 'numberovernumb': False, 'dun': False, 'say': False, 'earli': False, 'hor': False, 'alreadi': False, 'nah': False, 'think': False, 'goe': False, 'usf': False, 'live': False, 'around': False, 'though': False, 'freemsg': False, 'hey': False, 'darl': False, 'week': False, 'word': False, 'back': False, 'like': False, 'fun': False, 'still': False, 'tb': False, 'xxx': False, 'chg': False, 'send': False, 'moneysymbnumb': False, 'rcv': False, 'even': False, 'brother': False, 'speak': False, 'treat': False, 'aid': False, 'patent': False, 'per': False, 'request': False, 'mell': False, 'oru': False, 'minnaminungint': False, 'nurungu': False, 'vettam': False, 'set': False, 'callertun': False, 'caller': False, 'press': False, 'copi': False, 'friend': False, 'winner': False, 'valu': False, 'network': False, 'custom': False, 'select': False, 'receivea': False, 'prize': False, 'reward': False, 'claim': False, 'call': False, 'code': False, 'klnumber': False, 'valid': False, 'hour': False, 'mobil': False, 'month': False, 'r': False, 'entitl': False, 'updat': False, 'latest': False, 'colour': False, 'camera': False, 'co': False, 'gon': False, 'na': True, 'home': False, 'soon': False, 'want': False, 'talk': False, 'stuff': False, 'anymor': False, 'tonight': False, 'k': False, 'cri': False, 'enough': False, 'today': False, 'six': False, 'chanc': False, 'cash': False, 'pound': False, 'cshnumber': False, 'cost': False, 'numberp': False, 'day': False, 'numberday': False, 'tsandc': False, 'repli': False, 'hl': False, 'info': False, 'urgent': False, 'membership': False, 'jackpot': False, 'www': False, 'dbuk': False, 'net': False, 'lccltd': False, 'pobox': False, 'numberldnwnumberanumberrwnumb': False, 'search': False, 'right': False, 'thank': False, 'breather': False, 'promis': False, 'wont': False, 'take': False, 'help': False, 'grant': False, 'fulfil': False, 'wonder': False, 'bless': False, 'time': False, 'date': False, 'sunday': False, 'xxxmobilemovieclub': False, 'use': False, 'credit': False, 'click': False, 'wap': False, 'link': False, 'next': False, 'messag': False, 'http': False, 'com': False, 'qjkgighjjgcbl': False, 'oh': False, 'watch': False, 'eh': False, 'rememb': False, 'spell': False, 'name': False, 'ye': False, 'v': False, 'naughti': False, 'make': False, 'wet': False, 'fine': False, 'way': True, 'feel': False, 'gota': False, 'b': False, 'england': False, 'macedonia': False, 'dont': False, 'miss': False, 'goal': False, 'team': False, 'news': False, 'ur': False, 'nation': False, 'eg': False, 'tri': False, 'wale': False, 'scotland': False, 'numbertxt': False, 'únumber': False, 'poboxoxnumberwnumberwq': False, 'serious': False, 'ha': False, 'ü': False, 'pay': False, 'first': False, 'da': False, 'stock': False, 'comin': False, 'aft': False, 'finish': False, 'lunch': False, 'str': False, 'lor': False, 'ard': False, 'smth': False, 'ffffffffff': False, 'alright': False, 'meet': False, 'sooner': False, 'forc': False, 'eat': False, 'slice': False, 'realli': False, 'hungri': False, 'tho': False, 'suck': False, 'mark': False, 'get': False, 'worri': False, 'know': False, 'sick': False, 'turn': False, 'pizza': False, 'lol': False, 'alway': False, 'convinc': False, 'catch': False, 'bu': False, 'fri': False, 'egg': False, 'tea': False, 'mom': False, 'left': False, 'dinner': False, 'love': False, 'amp': False, 'pack': False, 'car': False, 'let': False, 'room': False, 'ahhh': False, 'work': False, 'vagu': False, 'wait': False, 'clear': False, 'sure': False, 'sarcast': False, 'x': False, 'us': False, 'yeah': False, 'apologet': False, 'fallen': False, 'actin': False, 'spoilt': False, 'child': False, 'caught': False, 'till': False, 'badli': False, 'cheer': False, 'tell': False, 'anyth': False, 'fear': False, 'faint': False, 'housework': False, 'quick': False, 'cuppa': False, 'subscript': False, 'rington': False, 'uk': False, 'charg': False, 'pleas': False, 'confirm': False, 'yup': False, 'look': False, 'msg': False, 'xuhui': False, 'learn': False, 'numbernd': False, 'lesson': False, 'numberam': False, 'oop': False, 'roommat': False, 'done': False, 'see': False, 'letter': False, 'decid': False, 'hello': False, 'saturday': False, 'tomo': False, 'invit': False, 'pl': False, 'ahead': False, 'watt': False, 'weekend': False, 'abiola': False, 'forget': False, 'need': False, 'crave': False, 'sweet': False, 'arabian': False, 'steed': False, 'mmmmmm': False, 'yummi': False, 'rodger': False, 'burn': False, 'sm': False, 'nokia': False, 'camcord': False, 'deliveri': False, 'tomorrow': False, 'hope': False, 'man': False, 'well': False, 'endow': False, 'lt': False, 'gt': False, 'inch': False, 'hep': False, 'immunis': False, 'nigeria': False, 'fair': False, 'tyler': False, 'could': False, 'mayb': False, 'ask': False, 'bit': False, 'stubborn': False, 'hospit': False, 'kept': False, 'weak': False, 'sucker': False, 'saw': False, 'class': False, 'gram': False, 'usual': False, 'run': False, 'half': False, 'eighth': False, 'smarter': False, 'almost': False, 'whole': False, 'second': False, 'fyi': False, 'ride': False, 'morn': False, 'crash': False, 'place': False, 'wow': False, 'never': False, 'realiz': False, 'embarass': False, 'accomod': False, 'thought': False, 'sinc': False, 'best': False, 'seem': False, 'happi': False, 'cave': False, 'sorri': False, 'give': False, 'offer': False, 'ac': False, 'sptv': False, 'new': False, 'jersey': False, 'devil': False, 'detroit': False, 'red': False, 'wing': False, 'play': False, 'ice': False, 'hockey': False, 'correct': False, 'incorrect': False, 'end': False, 'mallika': False, 'sherawat': False, 'yesterday': False, 'find': False, 'url': False, 'congrat': False, 'year': False, 'special': False, 'cinema': False, 'pass': False, 'suprman': False, 'matrixnumb': False, 'starwarsnumb': False, 'etc': False, 'bxnumber': False, 'ipnumb': False, 'numberw': False, 'numberpm': False, 'later': False, 'reach': False, 'gauti': False, 'sehwag': False, 'odi': False, 'seri': False, 'pick': False, 'burger': False, 'move': False, 'pain': False, 'kill': False, 'good': False, 'girl': False, 'situat': False, 'seeker': False, 'part': False, 'check': False, 'iq': False, 'took': False, 'forev': False, 'come': False, 'doubl': False, 'hair': False, 'dresser': False, 'said': False, 'wun': False, 'cut': False, 'short': False, 'nice': False, 'advis': False, 'follow': False, 'recent': False, 'review': False, 'mob': False, 'award': False, 'bonu': False, 'song': False, 'dedic': False, 'valuabl': False, 'frnd': False, 'rpli': False, 'complimentari': False, 'trip': False, 'eurodisinc': False, 'trav': False, 'aco': False, 'entrynumb': False, 'di': False, 'morefrmmob': False, 'shracomorsglsuplt': False, 'lsnumber': False, 'numberaj': False, 'hear': False, 'divorc': False, 'barbi': False, 'ken': False, 'plane': False, 'wah': False, 'lucki': False, 'save': False, 'money': False, 'hee': False, 'hi': False, 'babe': False, 'im': False, 'wan': True, 'someth': False, 'xx': True, 'perform': False, 'machan': False, 'that': False, 'cool': False, 'gentleman': False, 'digniti': False, 'respect': False, 'peopl': False, 'much': False, 'shi': False, 'pa': False, 'oper': False, 'job': False, 'ta': False, 'earn': False, 'ah': False, 'stop': False, 'urgnt': False, 'real': False, 'yo': False, 'ticket': False, 'one': False, 'jacket': False, 'multi': False, 'start': False, 'came': False, 'bed': False, 'coin': False, 'factori': False, 'nitro': False, 'ela': False, 'kano': False, 'il': False, 'download': False, 'wen': False, 'stand': False, 'close': False, 'anoth': False, 'night': False, 'spent': False, 'late': False, 'afternoon': False, 'casualti': False, 'mean': False, 'stuffnumbermoro': False, 'includ': False, 'sheet': False, 'smile': False, 'pleasur': False, 'troubl': False, 'pour': False, 'rain': False, 'sumnumb': False, 'hurt': False, 'becoz': False, 'someon': False, 'servic': False, 'repres': False, 'guarante': False, 'havent': False, 'plan': False, 'buy': False, 'lido': False, 'show': False, 'collect': False, 'simpli': False, 'password': False, 'mix': False, 'verifi': False, 'usher': False, 'britney': False, 'fml': False, 'po': False, 'box': False, 'mknumber': False, 'numberh': False, 'numberppw': False, 'telugu': False, 'movi': False, 'abt': False, 'load': False, 'loan': False, 'wk': False, 'hol': False, 'forgot': False, 'hairdress': False, 'appoint': False, 'four': False, 'shower': False, 'beforehand': False, 'caus': False, 'prob': False, 'coffe': False, 'anim': False, 'noth': False, 'els': False, 'okay': False, 'price': False, 'long': False, 'legal': False, 'ave': False, 'am': False, 'gone': False, 'numberth': False, 'drive': False, 'test': False, 'yet': False, 'guess': False, 'gave': False, 'boston': False, 'men': False, 'chang': False, 'locat': False, 'nyc': False, 'cuz': False, 'signin': False, 'page': False, 'umma': False, 'life': False, 'vava': False, 'lot': False, 'dear': False, 'wish': False, 'birthday': False, 'truli': False, 'memor': False, 'aight': False, 'hit': False, 'would': False, 'ip': False, 'address': False, 'consid': False, 'comput': False, 'minecraft': False, 'server': False, 'grumpi': False, 'old': False, 'better': False, 'lie': False, 'busi': False, 'plural': False, 'noun': False, 'research': False, 'thing': False, 'scare': False, 'mah': False, 'loud': False, 'gent': False, 'contact': False, 'last': False, 'draw': False, 'knumber': False, 'numberhr': False, 'numberppm': False, 'wa': False, 'openin': False, 'sentenc': False, 'formal': False, 'anyway': False, 'juz': False, 'tt': False, 'eatin': False, 'puttin': False, 'weight': False, 'haha': False, 'anythin': False, 'happen': False, 'enter': False, 'cabin': False, 'boss': False, 'felt': False, 'askd': False, 'apart': False, 'went': False, 'holiday': False, 'flight': False, 'inc': False, 'min': False, 'goodo': False, 'must': False, 'friday': False, 'potato': False, 'ratio': False, 'tortilla': False, 'hmm': False, 'uncl': False, 'inform': False, 'school': False, 'directli': False, 'food': False, 'privat': False, 'account': False, 'statement': False, 'unredeem': False, 'identifi': False, 'expir': False, 'landlin': False, 'boxnumberwrnumberc': False, 'appl': False, 'pair': False, 'malarki': False, 'voda': False, 'match': False, 'quot': False, 'standard': False, 'app': False, 'sao': False, 'mu': False, 'predict': False, 'yetund': False, 'sent': False, 'bother': False, 'involv': False, 'impos': False, 'apologis': False, 'del': False, 'bak': False, 'sum': False, 'lucyxx': False, 'tmorrow': False, 'answer': False, 'sunshin': False, 'quiz': False, 'q': False, 'top': False, 'soni': False, 'dvd': False, 'player': False, 'countri': False, 'algarv': False, 'ansr': False, 'sp': False, 'tyron': False, 'laid': False, 'dog': False, 'direct': False, 'join': False, 'largest': False, 'bt': False, 'txting': False, 'gravel': False, 'nt': False, 'ecnumbera': False, 'emailaddr': False, 'befor': False, 'activ': False, 'chat': False, 'svc': False, 'hardcor': False, 'age': False, 'yr': False, 'lazi': False, 'type': False, 'lect': False, 'pouch': False, 'sir': False, 'mail': False, 'swt': False, 'nver': False, 'tire': False, 'littl': False, 'lovabl': False, 'person': False, 'coz': False, 'somtim': False, 'occupi': False, 'biggest': False, 'heart': False, 'gud': False, 'ninumb': False, 'open': False, 'ya': False, 'dot': False, 'what': False, 'staff': False, 'randi': False, 'sexi': False, 'femal': False, 'local': False, 'luv': False, 'netcollex': False, 'ltd': False, 'ummma': False, 'begin': False, 'qatar': False, 'pray': False, 'hard': False, 'delet': False, 'sindu': False, 'birla': False, 'soft': False, 'wine': False, 'flow': False, 'thk': False, 'plaza': False, 'typic': False, 'everywher': False, 'dirt': False, 'floor': False, 'window': False, 'shirt': False, 'sometim': False, 'mouth': False, 'dream': False, 'without': False, 'chore': False, 'joy': False, 'tv': False, 'exist': False, 'hail': False, 'mist': False, 'becom': False, 'aaooooright': False, 'leav': False, 'hous': False, 'interview': False, 'boy': False, 'annonc': False, 'arrang': False, 'keep': False, 'safe': False, 'envi': False, 'everyon': False, 'parent': False, 'hand': False, 'excit': False, 'spend': False, 'bootydeli': False, 'f': False, 'bangbab': False, 'order': False, 'content': False, 'goto': False, 'bangb': False, 'internet': False, 'menu': False, 'cultur': False, 'modul': False, 'snumber': False, 'avoid': False, 'missunderstd': False, 'wit': False, 'belov': False, 'escap': False, 'fanci': False, 'bridg': False, 'lager': False, 'complet': False, 'form': False, 'clark': False, 'also': False, 'utter': False, 'wast': False, 'axi': False, 'bank': False, 'hmmm': False, 'hop': False, 'muz': False, 'discuss': False, 'liao': False, 'bloodi': False, 'hell': False, 'cant': False, 'believ': False, 'surnam': False, 'mr': False, 'ill': False, 'clue': False, 'spanish': False, 'bath': False, 'carlo': False, 'mall': False, 'stay': False, 'til': False, 'smoke': False, 'moneysymb': False, 'worth': False, 'doesnt': False, 'log': False, 'spoke': False, 'maneesha': False, 'satisfi': False, 'experi': False, 'toll': False, 'lift': False, 'especi': False, 'approach': False, 'studi': False, 'grnumber': False, 'trust': False, 'guy': False, 'bye': False, 'handsom': False, 'toward': False, 'mummi': False, 'boytoy': False, 'awesom': False, 'minut': False, 'freephon': False, 'xma': False, 'radio': False, 'ju': False, 'si': False, 'uniqu': False, 'august': False, 'areyouuniqu': False, 'leagu': False, 'touch': False, 'deal': False, 'cours': False, 'howev': False, 'suggest': False, 'abl': False, 'or': False, 'everi': False, 'stool': False, 'settl': False, 'wishin': False, 'mrng': False, 'hav': False, 'stori': False, 'hamster': False, 'dead': False, 'tmr': False, 'orchard': False, 'mrt': False, 'kate': False, 'babyjontet': False, 'found': False, 'enc': False, 'buck': False, 'darlin': False, 'ive': False, 'colleg': True, 'refil': False, 'success': False, 'inr': False, 'decim': False, 'keralacircl': False, 'prepaid': False, 'balanc': False, 'rs': False, 'transact': False, 'id': False, 'kr': False, 'goodmorn': False, 'sleep': False, 'ga': False, 'alter': False, 'dat': False, 'ericsson': False, 'oso': False, 'can': False, 'not': False, 'oredi': False, 'straight': False, 'dogg': False, 'connect': False, 'refund': False, 'bill': False, 'shoot': False, 'big': False, 'readi': False, 'bruv': False, 'break': False, 'semest': False, 'noe': False, 'leh': False, 'sound': False, 'head': False, 'slept': False, 'past': False, 'easi': False, 'sen': False, 'exam': False, 'march': False, 'atm': False, 'regist': False, 'os': False, 'ubandu': False, 'instal': False, 'disk': False, 'import': False, 'file': False, 'system': False, 'repair': False, 'shop': False, 'romant': False, 'nite': False, 'sceneri': False, 'tc': False, 'biz': False, 'numberoptout': False, 'numbergbp': False, 'mtmsgnumber': False, 'appreci': False, 'partner': False, 'career': False, 'flyng': False, 'horo': False, 'star': False, 'sign': False, 'g': False, 'ari': False, 'compani': False, 'elama': False, 'mudyadhu': False, 'strict': False, 'teacher': False, 'bcoz': False, 'teach': False, 'conduct': False, 'gandhipuram': False, 'walk': False, 'cross': False, 'road': False, 'side': False, 'street': False, 'rubber': False, 'batteri': False, 'die': False, 'flirt': False, 'sam': False, 'recd': False, 'thirtyeight': False, 'penc': False, 'print': False, 'upstair': False, 'closer': False, 'wil': False, 'theori': False, 'argument': False, 'lose': False, 'argu': False, 'kick': False, 'secret': False, 'admir': False, 'reveal': False, 'tomarrow': False, 'laptop': False, 'case': False, 'pleassssssseeeee': False, 'tel': False, 'avent': False, 'sportsx': False, 'shine': False, 'meant': False, 'although': False, 'told': False, 'baig': False, 'face': False, 'fr': False, 'thanx': False, 'everyth': False, 'commerci': False, 'websit': False, 'slipper': False, 'kalli': False, 'bat': False, 'inning': False, 'didnt': False, 'goodnight': False, 'fix': False, 'wake': False, 'dearli': False, 'congratul': False, 'cd': False, 'voucher': False, 'numbergift': False, 'music': False, 'tnc': False, 'ldew': False, 'comnumberwinnumberppmxnumberagenumb': False, 'ranjith': False, 'cal': False, 'drpd': False, 'deeraj': False, 'deepak': False, 'numbermin': False, 'hold': False, 'bcum': False, 'angri': False, 'wid': False, 'dnt': False, 'childish': False, 'true': False, 'deep': False, 'affect': False, 'care': False, 'kettoda': False, 'manda': False, 'up': False, 'ship': False, 'numberwk': False, 'usp': False, 'lag': False, 'bribe': False, 'nipost': False, 'lemm': False, 'necessarili': False, 'expect': False, 'headin': False, 'mmm': False, 'jolt': False, 'suzi': False, 'lover': False, 'video': False, 'handset': False, 'anytim': False, 'unlimit': False, 'park': False, 'mini': False, 'disturb': False, 'luton': False, 'ring': False, 'h': False, 'horni': False, 'nake': False, 'hot': False, 'unsubscrib': False, 'dint': False, 'wana': False, 'sometm': False, 'clubnumbermobil': False, 'choos': False, 'club': False, 'clubnumb': False, 'boxnumb': False, 'numberwt': False, 'evo': False, 'flash': False, 'jealou': False, 'singl': False, 'chart': False, 'qualiti': False, 'sort': False, 'narcot': False, 'sunni': False, 'ray': False, 'blue': False, 'bay': False, 'hmv': False, 'genuin': False, 'numberperc': False, 'might': False, 'object': False, 'bf': False, 'rob': False, 'mack': False, 'gf': False, 'theater': False, 'celebr': False, 'full': False, 'swing': False, 'tool': False, 'definit': False, 'gdeve': False, 'far': False, 'oki': False, 'ahold': False, 'anybodi': False, 'throw': False, 'babi': False, 'cruisin': False, 'fone': False, 'jenni': False, 'ge': False, 'shall': False, 'tonit': False, 'varunnathu': False, 'edukkukaye': False, 'raksha': False, 'ollu': False, 'sens': False, 'gautham': False, 'haf': False, 'stupid': False, 'cam': False, 'buzi': False, 'accident': False, 'resend': False, 'phone': False, 'upgrad': False, 'sim': False, 'card': False, 'loyalti': False, 'numberthfeb': False, 'unless': False, 'gurl': False, 'appropri': False, 'teas': False, 'plz': False, 'rose': False, 'grave': False, 'bslvyl': False, 'somebodi': False, 'high': False, 'diesel': False, 'shit': False, 'shock': False, 'scari': False, 'imagin': False, 'def': False, 'somewher': False, 'taxi': False, 'fridg': False, 'meal': False, 'womdarful': False, 'actor': False, 'blind': False, 'numberu': False, 'roddsnumb': False, 'aberdeen': False, 'unit': False, 'kingdom': False, 'img': False, 'w': False, 'icmbnumbercktznumberrnumb': False, 'hide': False, 'remb': False, 'book': False, 'jo': False, 'friendship': False, 'hang': False, 'thread': False, 'themob': False, 'newest': False, 'game': False, 'tone': False, 'gossip': False, 'sport': False, 'fit': False, 'funki': False, 'garag': False, 'key': False, 'bookshelf': False, 'accept': False, 'sister': False, 'dearnumb': False, 'bestnumb': False, 'closnumb': False, 'lvblefrnd': False, 'jstfrnd': False, 'cutefrnd': False, 'lifpartnr': False, 'belovd': False, 'swtheart': False, 'bstfrnd': False, 'enemi': False, 'smart': False, 'weekli': False, 'cs': False, 'winnersclub': False, 'mnumber': False, 'numberuz': False, 'gbpnumber': False, 'normal': False, 'rest': False, 'mylif': False, 'wot': False, 'lost': False, 'made': False, 'advanc': False, 'pongal': False, 'kb': False, 'power': False, 'yoga': False, 'dunno': False, 'tahan': False, 'anot': False, 'lo': False, 'dude': False, 'afraid': False, 'decemb': False, 'numbermth': False, 'cake': False, 'merri': False, 'christma': False, 'kiss': False, 'cud': False, 'ppl': False, 'gona': False, 'lnumber': False, 'buse': False, 'waitin': False, 'pete': False, 'guild': False, 'bristol': False, 'problem': False, 'track': False, 'record': False, 'read': False, 'women': False, 'light': False, 'apo': False, 'return': False, 'immedi': False, 'germani': False, 'line': False, 'via': False, 'access': False, 'prepay': False, 'evapor': False, 'violat': False, 'privaci': False, 'steal': False, 'employ': False, 'paperwork': False, 'report': False, 'supervisor': False, 'valentin': False, 'lifetim': False, 'rcvd': False, 'custcar': False, 'daaaaa': False, 'dine': False, 'surf': False, 'post': False, 'wiv': False, 'carolin': False, 'favourit': False, 'stranger': False, 'interest': False, 'two': False, 'round': False, 'gudnit': False, 'practic': False, 'yiju': False, 'huim': False, 'num': False, 'small': False, 'prestig': False, 'shag': False, 'sextextuk': False, 'xxuk': False, 'jeremiah': False, 'iphon': False, 'apeshit': False, 'ever': False, 'misbehav': False, 'slap': False, 'urself': False, 'fault': False, 'basic': False, 'figur': False, 'alcohol': False, 'jay': False, 'weed': False, 'ish': False, 'ago': False, 'wtf': False, 'onam': False, 'sirji': False, 'met': False, 'insur': False, 'insha': False, 'allah': False, 'rakhesh': False, 'ex': False, 'tata': False, 'aig': False, 'tissco': False, 'tayseer': False, 'current': False, 'maxim': False, 'cc': False, 'hg': False, 'suitenumb': False, 'numberland': False, 'row': False, 'wnumberjnumberhl': False, 'unemploy': False, 'moment': False, 'st': False, 'andrew': False, 'cold': False, 'chikku': False, 'db': False, 'audrey': False, 'statu': False, 'forward': False, 'dawn': False, 'refresh': False, 'aliv': False, 'breath': False, 'air': False, 'z': False, 'update_now': False, 'motorola': False, 'sonyericsson': False, 'bluetooth': False, 'orang': False, 'mobileupdnumb': False, 'callnumberoptout': False, 'fnumberq': False, 'discount': False, 'rpnumber': False, 'regalportfolio': False, 'uniform': False, 'geeee': False, 'woke': False, 'cuddl': False, 'spoil': False, 'agre': False, 'will': False, 'refer': False, 'tnumber': False, 'gbp': False, 'seen': False, 'recognis': False, 'lindsay': False, 'sigh': False, 'bar': False, 'ptbo': False, 'heron': False, 'payasam': False, 'rinu': False, 'bring': False, 'taught': False, 'becau': False, 'he': False, 'project': False, 'prabu': False, 'mistak': False, 'bodi': False, 'quit': False, 'slow': False, 'guid': False, 'ovul': False, 'relax': False, 'reason': False, 'followin': False, 'coupl': False, 'wallet': False, 'numbermonth': False, 'nnumberdx': False, 'owl': False, 'lick': False, 'mm': False, 'rental': False, 'mobilesdirect': False, 'ornumberstoptxt': False, 'huh': False, 'sat': False, 'intro': False, 'pilat': False, 'kickbox': False, 'offic': False, 'lap': False, 'shut': False, 'bout': False, 'numberish': False, 'calcul': False, 'period': False, 'actual': False, 'rock': False, 'put': False, 'pictur': False, 'ass': False, 'facebook': False, 'al': False, 'salam': False, 'wahleykkum': False, 'share': False, 'grace': False, 'god': False, 'inshah': False, 'visitor': False, 'india': False, 'field': False, 'quickli': False, 'administr': False, 'poli': False, 'numberxmoneysymbnumberpw': False, 'emoneysymbnd': False, 'chechi': False, 'cream': False, 'none': False, 'yep': False, 'loxahatche': False, 'tree': False, 'stoner': False, 'slightli': False, 'disastr': False, 'pm': False, 'fav': False, 'wld': False, 'drink': False, 'busetop': False, 'sender': False, 'fullonsm': False, 'iron': False, 'yan': False, 'jiu': False, 'skip': False, 'den': False, 'blah': False, 'wendi': False, 'l': False, 'boxnumbersknumberch': False, 'whatsup': False, 'competit': False, 'txttowin': False, 'logo': False, 'namenumb': False, 'mobno': False, 'adam': False, 'eve': False, 'yahoo': False, 'poboxnumberwnumberwq': False, 'txtno': False, 'ad': False, 'poboxnumbernnumbertfnumberp': False, 'siva': False, 'hostel': False, 'aha': False, 'land': False, 'voic': False, 'express': False, 'sentiment': False, 'rowdi': False, 'ful': False, 'attitud': False, 'attract': False}, 0)\n"
     ]
    }
   ],
   "source": [
    "print(featuresets[0])"
   ]
  },
  {
   "cell_type": "code",
   "execution_count": 86,
   "metadata": {},
   "outputs": [],
   "source": [
    "from sklearn.model_selection import train_test_split"
   ]
  },
  {
   "cell_type": "code",
   "execution_count": 87,
   "metadata": {},
   "outputs": [],
   "source": [
    "train, test = train_test_split(featuresets, test_size = 0.25, random_state = seed)"
   ]
  },
  {
   "cell_type": "code",
   "execution_count": 88,
   "metadata": {},
   "outputs": [
    {
     "name": "stdout",
     "output_type": "stream",
     "text": [
      "Training:  4179\n",
      "Test:  1393\n"
     ]
    }
   ],
   "source": [
    "print('Training: ', len(train))\n",
    "print('Test: ', len(test))"
   ]
  },
  {
   "cell_type": "code",
   "execution_count": 89,
   "metadata": {},
   "outputs": [],
   "source": [
    "from sklearn.neighbors import KNeighborsClassifier\n",
    "from sklearn.tree import DecisionTreeClassifier\n",
    "from sklearn.ensemble import RandomForestClassifier\n",
    "from sklearn.linear_model import LogisticRegression, SGDClassifier\n",
    "from sklearn.naive_bayes import MultinomialNB\n",
    "from sklearn.svm import SVC\n",
    "from sklearn.metrics import classification_report, accuracy_score, confusion_matrix"
   ]
  },
  {
   "cell_type": "code",
   "execution_count": 90,
   "metadata": {},
   "outputs": [],
   "source": [
    "names = ['K Nearest Neighbor', 'Decision Tree', 'Random Forest', 'Logistic Regression', 'SGD Classifier', 'Naive Bayes', 'SVM Linear']\n",
    "\n",
    "classifiers = [\n",
    "    KNeighborsClassifier(),\n",
    "    DecisionTreeClassifier(),\n",
    "    RandomForestClassifier(),\n",
    "    LogisticRegression(),\n",
    "    SGDClassifier(max_iter=100),\n",
    "    MultinomialNB(),\n",
    "    SVC(kernel='linear')\n",
    "]\n",
    "models = list(zip(names, classifiers))"
   ]
  },
  {
   "cell_type": "code",
   "execution_count": 91,
   "metadata": {},
   "outputs": [
    {
     "data": {
      "text/plain": [
       "[('K Nearest Neighbor',\n",
       "  KNeighborsClassifier(algorithm='auto', leaf_size=30, metric='minkowski',\n",
       "                       metric_params=None, n_jobs=None, n_neighbors=5, p=2,\n",
       "                       weights='uniform')),\n",
       " ('Decision Tree',\n",
       "  DecisionTreeClassifier(class_weight=None, criterion='gini', max_depth=None,\n",
       "                         max_features=None, max_leaf_nodes=None,\n",
       "                         min_impurity_decrease=0.0, min_impurity_split=None,\n",
       "                         min_samples_leaf=1, min_samples_split=2,\n",
       "                         min_weight_fraction_leaf=0.0, presort=False,\n",
       "                         random_state=None, splitter='best')),\n",
       " ('Random Forest',\n",
       "  RandomForestClassifier(bootstrap=True, class_weight=None, criterion='gini',\n",
       "                         max_depth=None, max_features='auto', max_leaf_nodes=None,\n",
       "                         min_impurity_decrease=0.0, min_impurity_split=None,\n",
       "                         min_samples_leaf=1, min_samples_split=2,\n",
       "                         min_weight_fraction_leaf=0.0, n_estimators='warn',\n",
       "                         n_jobs=None, oob_score=False, random_state=None,\n",
       "                         verbose=0, warm_start=False)),\n",
       " ('Logistic Regression',\n",
       "  LogisticRegression(C=1.0, class_weight=None, dual=False, fit_intercept=True,\n",
       "                     intercept_scaling=1, l1_ratio=None, max_iter=100,\n",
       "                     multi_class='warn', n_jobs=None, penalty='l2',\n",
       "                     random_state=None, solver='warn', tol=0.0001, verbose=0,\n",
       "                     warm_start=False)),\n",
       " ('SGD Classifier',\n",
       "  SGDClassifier(alpha=0.0001, average=False, class_weight=None,\n",
       "                early_stopping=False, epsilon=0.1, eta0=0.0, fit_intercept=True,\n",
       "                l1_ratio=0.15, learning_rate='optimal', loss='hinge',\n",
       "                max_iter=100, n_iter_no_change=5, n_jobs=None, penalty='l2',\n",
       "                power_t=0.5, random_state=None, shuffle=True, tol=0.001,\n",
       "                validation_fraction=0.1, verbose=0, warm_start=False)),\n",
       " ('Naive Bayes', MultinomialNB(alpha=1.0, class_prior=None, fit_prior=True)),\n",
       " ('SVM Linear', SVC(C=1.0, cache_size=200, class_weight=None, coef0=0.0,\n",
       "      decision_function_shape='ovr', degree=3, gamma='auto_deprecated',\n",
       "      kernel='linear', max_iter=-1, probability=False, random_state=None,\n",
       "      shrinking=True, tol=0.001, verbose=False))]"
      ]
     },
     "execution_count": 91,
     "metadata": {},
     "output_type": "execute_result"
    }
   ],
   "source": [
    "models"
   ]
  },
  {
   "cell_type": "code",
   "execution_count": 96,
   "metadata": {},
   "outputs": [
    {
     "name": "stdout",
     "output_type": "stream",
     "text": [
      "K Nearest Neighbor: Accuracy: 98.85139985642498\n",
      "Decision Tree: Accuracy: 98.85139985642498\n",
      "Random Forest: Accuracy: 98.85139985642498\n"
     ]
    },
    {
     "name": "stderr",
     "output_type": "stream",
     "text": [
      "C:\\Users\\hp\\Anaconda3\\lib\\site-packages\\sklearn\\linear_model\\logistic.py:432: FutureWarning: Default solver will be changed to 'lbfgs' in 0.22. Specify a solver to silence this warning.\n",
      "  FutureWarning)\n"
     ]
    },
    {
     "name": "stdout",
     "output_type": "stream",
     "text": [
      "Logistic Regression: Accuracy: 98.85139985642498\n",
      "SGD Classifier: Accuracy: 98.85139985642498\n",
      "Naive Bayes: Accuracy: 98.85139985642498\n",
      "SVM Linear: Accuracy: 98.85139985642498\n"
     ]
    }
   ],
   "source": [
    "from nltk.classify.scikitlearn import SklearnClassifier\n",
    "\n",
    "for name, model in models:\n",
    "    nltk_models = SklearnClassifier(model)\n",
    "    nltk_models.train(train)\n",
    "    accuracy = nltk.classify.accuracy(nltk_model, test)*100\n",
    "    print('{}: Accuracy: {}'.format(name, accuracy))\n",
    "    "
   ]
  },
  {
   "cell_type": "code",
   "execution_count": 97,
   "metadata": {},
   "outputs": [],
   "source": [
    "txt_features, labels = zip(*test)\n",
    "\n",
    "prediction = nltk_models.classify_many(txt_features)\n"
   ]
  },
  {
   "cell_type": "code",
   "execution_count": 99,
   "metadata": {},
   "outputs": [
    {
     "name": "stdout",
     "output_type": "stream",
     "text": [
      "              precision    recall  f1-score   support\n",
      "\n",
      "           0       0.99      1.00      0.99      1216\n",
      "           1       0.97      0.94      0.95       177\n",
      "\n",
      "    accuracy                           0.99      1393\n",
      "   macro avg       0.98      0.97      0.97      1393\n",
      "weighted avg       0.99      0.99      0.99      1393\n",
      "\n"
     ]
    },
    {
     "data": {
      "text/html": [
       "<div>\n",
       "<style scoped>\n",
       "    .dataframe tbody tr th:only-of-type {\n",
       "        vertical-align: middle;\n",
       "    }\n",
       "\n",
       "    .dataframe tbody tr th {\n",
       "        vertical-align: top;\n",
       "    }\n",
       "\n",
       "    .dataframe thead tr th {\n",
       "        text-align: left;\n",
       "    }\n",
       "</style>\n",
       "<table border=\"1\" class=\"dataframe\">\n",
       "  <thead>\n",
       "    <tr>\n",
       "      <th></th>\n",
       "      <th></th>\n",
       "      <th colspan=\"2\" halign=\"left\">predicted</th>\n",
       "    </tr>\n",
       "    <tr>\n",
       "      <th></th>\n",
       "      <th></th>\n",
       "      <th>ham</th>\n",
       "      <th>spam</th>\n",
       "    </tr>\n",
       "  </thead>\n",
       "  <tbody>\n",
       "    <tr>\n",
       "      <td rowspan=\"2\" valign=\"top\">actual</td>\n",
       "      <td>ham</td>\n",
       "      <td>1211</td>\n",
       "      <td>5</td>\n",
       "    </tr>\n",
       "    <tr>\n",
       "      <td>spam</td>\n",
       "      <td>11</td>\n",
       "      <td>166</td>\n",
       "    </tr>\n",
       "  </tbody>\n",
       "</table>\n",
       "</div>"
      ],
      "text/plain": [
       "            predicted     \n",
       "                  ham spam\n",
       "actual ham       1211    5\n",
       "       spam        11  166"
      ]
     },
     "execution_count": 99,
     "metadata": {},
     "output_type": "execute_result"
    }
   ],
   "source": [
    "# Print confusion matrix \n",
    "print(classification_report(labels, prediction))\n",
    "\n",
    "pd.DataFrame(\n",
    "    confusion_matrix(labels, prediction),\n",
    "    index = [['actual', 'actual'],['ham', 'spam']],\n",
    "    columns = [['predicted', 'predicted'],['ham', 'spam']]\n",
    ") "
   ]
  },
  {
   "cell_type": "code",
   "execution_count": null,
   "metadata": {},
   "outputs": [],
   "source": []
  }
 ],
 "metadata": {
  "kernelspec": {
   "display_name": "Python 3",
   "language": "python",
   "name": "python3"
  },
  "language_info": {
   "codemirror_mode": {
    "name": "ipython",
    "version": 3
   },
   "file_extension": ".py",
   "mimetype": "text/x-python",
   "name": "python",
   "nbconvert_exporter": "python",
   "pygments_lexer": "ipython3",
   "version": "3.7.4"
  }
 },
 "nbformat": 4,
 "nbformat_minor": 2
}
